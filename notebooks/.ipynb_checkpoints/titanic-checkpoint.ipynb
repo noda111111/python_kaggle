{
 "cells": [
  {
   "cell_type": "code",
   "execution_count": 23,
   "id": "6c820ac6-2b44-40bc-95fc-e429d9918644",
   "metadata": {},
   "outputs": [
    {
     "name": "stdout",
     "output_type": "stream",
     "text": [
      "train:\n",
      "   PassengerId  Survived  Pclass  \\\n",
      "0            1         0       3   \n",
      "1            2         1       1   \n",
      "2            3         1       3   \n",
      "3            4         1       1   \n",
      "4            5         0       3   \n",
      "\n",
      "                                                Name     Sex   Age  SibSp  \\\n",
      "0                            Braund, Mr. Owen Harris    male  22.0      1   \n",
      "1  Cumings, Mrs. John Bradley (Florence Briggs Th...  female  38.0      1   \n",
      "2                             Heikkinen, Miss. Laina  female  26.0      0   \n",
      "3       Futrelle, Mrs. Jacques Heath (Lily May Peel)  female  35.0      1   \n",
      "4                           Allen, Mr. William Henry    male  35.0      0   \n",
      "\n",
      "   Parch            Ticket     Fare Cabin Embarked  \n",
      "0      0         A/5 21171   7.2500   NaN        S  \n",
      "1      0          PC 17599  71.2833   C85        C  \n",
      "2      0  STON/O2. 3101282   7.9250   NaN        S  \n",
      "3      0            113803  53.1000  C123        S  \n",
      "4      0            373450   8.0500   NaN        S  \n",
      "test:\n",
      "   PassengerId  Pclass                                          Name     Sex  \\\n",
      "0          892       3                              Kelly, Mr. James    male   \n",
      "1          893       3              Wilkes, Mrs. James (Ellen Needs)  female   \n",
      "2          894       2                     Myles, Mr. Thomas Francis    male   \n",
      "3          895       3                              Wirz, Mr. Albert    male   \n",
      "4          896       3  Hirvonen, Mrs. Alexander (Helga E Lindqvist)  female   \n",
      "\n",
      "    Age  SibSp  Parch   Ticket     Fare Cabin Embarked  \n",
      "0  34.5      0      0   330911   7.8292   NaN        Q  \n",
      "1  47.0      1      0   363272   7.0000   NaN        S  \n",
      "2  62.0      0      0   240276   9.6875   NaN        Q  \n",
      "3  27.0      0      0   315154   8.6625   NaN        S  \n",
      "4  22.0      1      1  3101298  12.2875   NaN        S  \n",
      "train_c:\n",
      "Index(['PassengerId', 'Survived', 'Pclass', 'Name', 'Sex', 'Age', 'SibSp',\n",
      "       'Parch', 'Ticket', 'Fare', 'Cabin', 'Embarked'],\n",
      "      dtype='object')\n",
      "test_c:\n",
      "Index(['PassengerId', 'Pclass', 'Name', 'Sex', 'Age', 'SibSp', 'Parch',\n",
      "       'Ticket', 'Fare', 'Cabin', 'Embarked'],\n",
      "      dtype='object')\n"
     ]
    }
   ],
   "source": [
    "# インポート\n",
    "import pandas as pd\n",
    "from sklearn.model_selection import train_test_split\n",
    "from sklearn.preprocessing import LabelEncoder\n",
    "\n",
    "# データ読み込み\n",
    "train_data = pd.read_csv('/app/data/train.csv')\n",
    "test_data = pd.read_csv('/app/data/test.csv')\n",
    "\n",
    "# データ確認\n",
    "print(\"train:\")\n",
    "print(train_data.head())\n",
    "\n",
    "print(\"test:\")\n",
    "print(test_data.head())\n",
    "\n",
    "# カラム確認\n",
    "print(\"train_c:\")\n",
    "print(train_data.columns)\n",
    "\n",
    "print(\"test_c:\")\n",
    "print(test_data.columns)\n",
    "\n",
    "\n"
   ]
  },
  {
   "cell_type": "code",
   "execution_count": 24,
   "id": "a48e3f98-7ec0-4bba-b47b-4071a547ce3f",
   "metadata": {},
   "outputs": [],
   "source": [
    "# メモ\n",
    "# PassengerId：識別\n",
    "# Survived：生存・目的変数（0：生存しない　1：生存）\n",
    "# Pclass：チケットランク\n",
    "# Name：名前\n",
    "# Sex：性別\n",
    "# Age：年\n",
    "# SibSp：兄弟姉妹や配偶者の同伴人数\n",
    "# Parch：両親や子供の同伴人\n",
    "# Ticket：チケット番号\n",
    "# Fare：料金\n",
    "# Cabin：客室番号\n"
   ]
  },
  {
   "cell_type": "code",
   "execution_count": 25,
   "id": "74567683-2d27-4995-970e-6942321c25e9",
   "metadata": {},
   "outputs": [],
   "source": [
    "\n",
    "# カテゴリ変数のエンコード\n",
    "le = LabelEncoder()\n",
    "train_data['Sex'] = le.fit_transform(train_data['Sex'])\n",
    "test_data['Sex'] = le.transform(test_data['Sex'])\n",
    "\n",
    "# 欠損値の処理、中央値代入\n",
    "train_data['Age'] = train_data['Age'].fillna(train_data['Age'].median())\n",
    "test_data['Age'] = test_data['Age'].fillna(train_data['Age'].median())\n",
    "test_data['Fare'] = test_data['Fare'].fillna(train_data['Fare'].median())\n",
    "\n",
    "# 説明変数定義、必要データのみX_test_dataへ\n",
    "features = ['Pclass', 'Sex', 'Age', 'SibSp', 'Parch', 'Fare']\n",
    "X = train_data[features]\n",
    "y = train_data['Survived']\n",
    "X_test_data = test_data[features]\n",
    "\n",
    "# データ分割、学習８、テスト２\n",
    "X_train, X_val, y_train, y_val = train_test_split(X, y, test_size=0.2, random_state=42)\n"
   ]
  },
  {
   "cell_type": "code",
   "execution_count": 26,
   "id": "5b7254ee-2114-4993-afcb-a99366954a25",
   "metadata": {},
   "outputs": [],
   "source": [
    "# インポート\n",
    "import xgboost as xgb\n",
    "\n",
    "# XGboost用にDMatrix形式へ変換\n",
    "dtrain = xgb.DMatrix(X_train, label=y_train)\n",
    "dval = xgb.DMatrix(X_val, label=y_val)\n",
    "dtest = xgb.DMatrix(X_test_data)\n"
   ]
  },
  {
   "cell_type": "code",
   "execution_count": 32,
   "id": "1af61f18-e223-4dab-99f0-65f797e2051f",
   "metadata": {},
   "outputs": [
    {
     "name": "stdout",
     "output_type": "stream",
     "text": [
      "[0]\tvalidation-logloss:0.63423\n",
      "[1]\tvalidation-logloss:0.59685\n",
      "[2]\tvalidation-logloss:0.56736\n",
      "[3]\tvalidation-logloss:0.54274\n",
      "[4]\tvalidation-logloss:0.52385\n",
      "[5]\tvalidation-logloss:0.50642\n",
      "[6]\tvalidation-logloss:0.49283\n",
      "[7]\tvalidation-logloss:0.48363\n",
      "[8]\tvalidation-logloss:0.47341\n",
      "[9]\tvalidation-logloss:0.46570\n",
      "[10]\tvalidation-logloss:0.45879\n",
      "[11]\tvalidation-logloss:0.45217\n",
      "[12]\tvalidation-logloss:0.44798\n",
      "[13]\tvalidation-logloss:0.44581\n",
      "[14]\tvalidation-logloss:0.44095\n",
      "[15]\tvalidation-logloss:0.43782\n",
      "[16]\tvalidation-logloss:0.43666\n",
      "[17]\tvalidation-logloss:0.43422\n",
      "[18]\tvalidation-logloss:0.43192\n",
      "[19]\tvalidation-logloss:0.43271\n",
      "[20]\tvalidation-logloss:0.43096\n",
      "[21]\tvalidation-logloss:0.43137\n",
      "[22]\tvalidation-logloss:0.43079\n",
      "[23]\tvalidation-logloss:0.43013\n",
      "[24]\tvalidation-logloss:0.42985\n",
      "[25]\tvalidation-logloss:0.42972\n",
      "[26]\tvalidation-logloss:0.42948\n",
      "[27]\tvalidation-logloss:0.42866\n",
      "[28]\tvalidation-logloss:0.42924\n",
      "[29]\tvalidation-logloss:0.42984\n",
      "[30]\tvalidation-logloss:0.43033\n",
      "[31]\tvalidation-logloss:0.43040\n",
      "[32]\tvalidation-logloss:0.43016\n",
      "[33]\tvalidation-logloss:0.42962\n",
      "[34]\tvalidation-logloss:0.42999\n",
      "[35]\tvalidation-logloss:0.42954\n",
      "[36]\tvalidation-logloss:0.43109\n",
      "[37]\tvalidation-logloss:0.43134\n"
     ]
    }
   ],
   "source": [
    "#　パラメータ定義\n",
    "params = {\n",
    "    'objective': 'binary:logistic', # バイナリ分類\n",
    "    'eval_metric': 'logloss',       # ロジスティック損失定義\n",
    "    'eta': 0.1,                     # 学習率\n",
    "    'max_depth': 6                  # 決定木の深さ\n",
    "}\n",
    "\n",
    "# モデルの学習\n",
    "model = xgb.train(\n",
    "    params,                     # ハイパーパラメータ設定\n",
    "    dtrain,                     # 学習用データ（dtrain = xgb.DMatrix(X_train, label=y_train))\n",
    "    num_boost_round=500,        # 学習の最大反復回数（Boosting回数）\n",
    "    evals=[(dval, 'validation')],  # 検証データを指定（進捗確認用）\n",
    "    early_stopping_rounds=10    # 検証データで10回連続で性能が改善しない場合、学習終了（過学習対策）\n",
    ")\n"
   ]
  },
  {
   "cell_type": "code",
   "execution_count": 28,
   "id": "33489a32-35d6-4696-a88b-bd3658c7e4f2",
   "metadata": {},
   "outputs": [],
   "source": [
    "# モデルを使用、検証データを計算　(dval = xgb.DMatrix(X_val, label=y_val))\n",
    "y_pred_val = model.predict(dval)\n",
    "\n",
    "# 予測確率（0～1の値）をしきい値0.5で二値（0または1）に変換\n",
    "y_pred_val_binary = [1 if prob > 0.5 else 0 for prob in y_pred_val]\n"
   ]
  },
  {
   "cell_type": "code",
   "execution_count": 29,
   "id": "33cb0ee9-fa92-46ae-89cf-c6f81755eb92",
   "metadata": {},
   "outputs": [
    {
     "name": "stdout",
     "output_type": "stream",
     "text": [
      "Validation Accuracy: 0.8156\n",
      "Validation Precision: 0.8475\n",
      "Validation Recall: 0.6757\n",
      "Validation F1 Score: 0.7519\n"
     ]
    }
   ],
   "source": [
    "# 指標インストインポート\n",
    "from sklearn.metrics import accuracy_score, precision_score, recall_score, f1_score\n",
    "\n",
    "# 精度の評価\n",
    "accuracy = accuracy_score(y_val, y_pred_val_binary)\n",
    "print(f\"Validation Accuracy: {accuracy:.4f}\")\n",
    "\n",
    "# 他の評価指標の計算\n",
    "precision = precision_score(y_val, y_pred_val_binary)\n",
    "recall = recall_score(y_val, y_pred_val_binary)\n",
    "f1 = f1_score(y_val, y_pred_val_binary)\n",
    "\n",
    "# 結果の出力\n",
    "print(f\"Validation Precision: {precision:.4f}\")\n",
    "print(f\"Validation Recall: {recall:.4f}\")\n",
    "print(f\"Validation F1 Score: {f1:.4f}\")\n"
   ]
  },
  {
   "cell_type": "code",
   "execution_count": 30,
   "id": "d568fabf-dcef-4234-a0a9-86adce645702",
   "metadata": {},
   "outputs": [],
   "source": [
    "# テストデータでの予測（dtest = xgb.DMatrix(X_test_data)）\n",
    "y_pred_test = model.predict(dtest)\n",
    "\n",
    "# 検証時と同様の定義。予測確率（0～1の値）をしきい値0.5で二値（0または1）に変換\n",
    "y_pred_test_binary = [1 if prob > 0.5 else 0 for prob in y_pred_test]\n",
    "\n",
    "# 提出用データ整形（PassengerIdとSurvivedのみ出力）\n",
    "submission = pd.DataFrame({\n",
    "    'PassengerId': test_data['PassengerId'],\n",
    "    'Survived': y_pred_test_binary\n",
    "})\n",
    "\n",
    "# csv出力、index除外\n",
    "submission.to_csv('titanic.csv', index=False)\n"
   ]
  },
  {
   "cell_type": "code",
   "execution_count": null,
   "id": "61486fc6-5e0e-4bbb-b3c2-2b7231af09b0",
   "metadata": {},
   "outputs": [],
   "source": []
  },
  {
   "cell_type": "code",
   "execution_count": null,
   "id": "1d848d91-b52e-4e29-a40d-9e20baeb62a7",
   "metadata": {},
   "outputs": [],
   "source": []
  }
 ],
 "metadata": {
  "kernelspec": {
   "display_name": "Python 3 (ipykernel)",
   "language": "python",
   "name": "python3"
  },
  "language_info": {
   "codemirror_mode": {
    "name": "ipython",
    "version": 3
   },
   "file_extension": ".py",
   "mimetype": "text/x-python",
   "name": "python",
   "nbconvert_exporter": "python",
   "pygments_lexer": "ipython3",
   "version": "3.9.21"
  }
 },
 "nbformat": 4,
 "nbformat_minor": 5
}
